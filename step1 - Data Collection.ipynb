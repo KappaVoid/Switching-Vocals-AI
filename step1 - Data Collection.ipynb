{
 "cells": [
  {
   "cell_type": "markdown",
   "metadata": {},
   "source": [
    "**Made by:**\n",
    "- Daniel Gunna\n",
    "- Felipe Lodur\n",
    "\n",
    "# Let's collect some dope switching vocals!\n",
    "\n",
    "\n",
    "### Dependencies"
   ]
  },
  {
   "cell_type": "code",
   "execution_count": 1,
   "metadata": {},
   "outputs": [],
   "source": [
    "# Make it pretty\n",
    "from tqdm import tqdm\n",
    "\n",
    "# Crawling\n",
    "from pytube import YouTube\n",
    "from search_videos import youtube_search"
   ]
  },
  {
   "cell_type": "markdown",
   "metadata": {},
   "source": [
    "### Auxiliary Functions"
   ]
  },
  {
   "cell_type": "markdown",
   "metadata": {},
   "source": [
    "Script for downloading music from youtube:"
   ]
  },
  {
   "cell_type": "code",
   "execution_count": null,
   "metadata": {},
   "outputs": [],
   "source": [
    "# video_url_example = r'https://www.youtube.com/watch?v=incRjEeOesg'\n",
    "\n",
    "def download_music(youtube_url, folder, filename):\n",
    "    try:\n",
    "        yt = YouTube(youtube_url)\n",
    "        yt.streams.filter(only_audio=True).first().download(folder, filename=filename)\n",
    "        return True\n",
    "    except:\n",
    "        return False"
   ]
  },
  {
   "cell_type": "markdown",
   "metadata": {},
   "source": [
    "We will be downloading only:\n",
    "- Videos that are shorter than 5 minutes\n",
    "- If searching for a switching vocal, it should have switching vocal in the name.\n",
    "\n",
    "Then, the videos will be saved in their respective folder ( `/original/` or `/switching/` ) "
   ]
  },
  {
   "cell_type": "code",
   "execution_count": 3,
   "metadata": {},
   "outputs": [],
   "source": [
    "def download(title, duration, youtube_url, filename, switching_vocals = False):\n",
    "    if((duration > 5) or (switching_vocals == True and \"switching vocals\" not in title.lower())):\n",
    "        return False # or too big or not switching vocal\n",
    "    else:\n",
    "        folder = './switching/' if switching_vocals else './original/'\n",
    "        return download_music(youtube_url, folder, filename)"
   ]
  },
  {
   "cell_type": "markdown",
   "metadata": {},
   "source": [
    "### Search and Download\n",
    "\n",
    "Look for pairs of: `original` and `switching vocals` musics."
   ]
  },
  {
   "cell_type": "code",
   "execution_count": 5,
   "metadata": {},
   "outputs": [],
   "source": [
    "def download_music_and_sv(music_list):\n",
    "    \n",
    "    for music_name in tqdm(music_list):\n",
    "        video = youtube_search(q=music_name + 'Switching Vocals', max_results='1')[0]\n",
    "        title, duration, yt_url = video.title, int(video.minutes), video.url\n",
    "        \n",
    "        if(download(title, duration, yt_url, filename=music_name, switching_vocals=True) == False):\n",
    "            continue # if we cant download switching music, we dont need the original\n",
    "        \n",
    "        video = youtube_search(q=music_name, max_results='1')[0]\n",
    "        title, duration, yt_url = video.title, int(video.minutes), video.url\n",
    "        download(title, duration, yt_url, filename=music_name, switching_vocals=False)"
   ]
  },
  {
   "cell_type": "code",
   "execution_count": 6,
   "metadata": {},
   "outputs": [
    {
     "name": "stderr",
     "output_type": "stream",
     "text": [
      "100%|███████████████████████████████████████████████████████████████████████████████████| 2/2 [05:43<00:00, 178.03s/it]\n"
     ]
    }
   ],
   "source": [
    "example_music_list = ['The Wolf And The Sheep', 'Hometown Smile']\n",
    "download_music_and_sv(example_music_list)"
   ]
  },
  {
   "cell_type": "markdown",
   "metadata": {},
   "source": [
    "**Next step:** Build up a list of musics to download."
   ]
  }
 ],
 "metadata": {
  "kernelspec": {
   "display_name": "Python 3",
   "language": "python",
   "name": "python3"
  },
  "language_info": {
   "codemirror_mode": {
    "name": "ipython",
    "version": 3
   },
   "file_extension": ".py",
   "mimetype": "text/x-python",
   "name": "python",
   "nbconvert_exporter": "python",
   "pygments_lexer": "ipython3",
   "version": "3.6.7"
  }
 },
 "nbformat": 4,
 "nbformat_minor": 2
}
